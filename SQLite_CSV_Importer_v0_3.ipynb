{
 "cells": [
  {
   "cell_type": "markdown",
   "metadata": {},
   "source": [
    "## MIMIC III DATA BASE\n",
    "### SQLite CSV importer\n",
    "v0.3\n",
    "July 23, 2019\n",
    "\n",
    "Reference: https://datatofish.com/create-database-python-using-sqlite3/"
   ]
  },
  {
   "cell_type": "markdown",
   "metadata": {},
   "source": [
    "### Library"
   ]
  },
  {
   "cell_type": "code",
   "execution_count": null,
   "metadata": {},
   "outputs": [],
   "source": [
    "import sqlite3\n",
    "from sqlite3 import Error\n",
    "import subprocess\n",
    "import os\n",
    "import operator\n",
    "import time"
   ]
  },
  {
   "cell_type": "markdown",
   "metadata": {},
   "source": [
    "### Data Import\n",
    "\n",
    "Notes:\n",
    "dbName: You should inform the DB name which will want to create with the function."
   ]
  },
  {
   "cell_type": "code",
   "execution_count": null,
   "metadata": {},
   "outputs": [],
   "source": [
    "def csv_SQLite(dbName):\n",
    "    conn = sqlite3.connect(dbName)\n",
    "    c = conn.cursor()\n",
    "    dirName = os.getcwd()\n",
    "    dir = os.listdir()\n",
    "    \n",
    "    dir = [x for x in dir if '.csv' in x]\n",
    "    dirLen = len(dir)\n",
    "    print(\"Found {} csv files in the directory {}\".format(dirLen, dirName))\n",
    "    print(\"\\n\")\n",
    "    count = 1\n",
    "    totalLapsed = 0\n",
    "    for fileName in dir:\n",
    "        start = time.time()\n",
    "        tableName = fileName.replace('.csv','')\n",
    "        print(\"Start to process the table {}\".format(tableName))\n",
    "        command1 = (\".mode csv \" + tableName)\n",
    "        command2 = (\".import \" + fileName + \" \"+ tableName)\n",
    "        subprocess.call(['sqlite3', dbName, command1, command2])\n",
    "        end = time.time()\n",
    "        lapsed = round((end - start)/60,1)\n",
    "        print(\"Processed file {}/{} - {}. in {} minutes\".format(count, dirLen, fileName, lapsed))\n",
    "        print(\"---------------------------------------------\")\n",
    "        count = count + 1\n",
    "        totalLapsed = totalLapsed + lapsed\n",
    "        \n",
    "    print(\"Process all the csv files in {} minutes\".format(totalLapsed))"
   ]
  },
  {
   "cell_type": "code",
   "execution_count": null,
   "metadata": {},
   "outputs": [],
   "source": [
    "csv_SQLite(\"MIMIC-III.db\")"
   ]
  }
 ],
 "metadata": {
  "kernelspec": {
   "display_name": "Python 3",
   "language": "python",
   "name": "python3"
  },
  "language_info": {
   "codemirror_mode": {
    "name": "ipython",
    "version": 3
   },
   "file_extension": ".py",
   "mimetype": "text/x-python",
   "name": "python",
   "nbconvert_exporter": "python",
   "pygments_lexer": "ipython3",
   "version": "3.7.3"
  }
 },
 "nbformat": 4,
 "nbformat_minor": 4
}
